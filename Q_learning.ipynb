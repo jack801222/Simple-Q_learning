{
 "cells": [
  {
   "cell_type": "code",
   "execution_count": 5,
   "metadata": {
    "collapsed": true
   },
   "outputs": [],
   "source": [
    "import numpy as np\n",
    "import pandas as pd\n",
    "import time\n",
    "\n",
    "np.random.seed(2)  \n",
    "\n",
    "N_STATES = 6   \n",
    "ACTIONS = ['left', 'right']     \n",
    "EPSILON = 0.9   \n",
    "ALPHA = 0.1     \n",
    "GAMMA = 0.9    \n",
    "MAX_EPISODES = 13   \n",
    "FRESH_TIME = 0.3 "
   ]
  },
  {
   "cell_type": "code",
   "execution_count": 7,
   "metadata": {
    "scrolled": true
   },
   "outputs": [
    {
     "name": "stdout",
     "output_type": "stream",
     "text": [
      "\r",
      "o----T"
     ]
    },
    {
     "name": "stderr",
     "output_type": "stream",
     "text": [
      "/usr/local/lib/python3.6/site-packages/ipykernel_launcher.py:54: DeprecationWarning: \n",
      ".ix is deprecated. Please use\n",
      ".loc for label based indexing or\n",
      ".iloc for positional indexing\n",
      "\n",
      "See the documentation here:\n",
      "http://pandas.pydata.org/pandas-docs/stable/indexing.html#deprecate_ix\n"
     ]
    },
    {
     "name": "stdout",
     "output_type": "stream",
     "text": [
      "                                \n",
      "Q-table:\n",
      "\n",
      "       left     right\n",
      "0  0.000103  0.005979\n",
      "1  0.000004  0.034896\n",
      "2  0.000007  0.146238\n",
      "3  0.016031  0.358074\n",
      "4  0.012253  0.745813\n",
      "5  0.000000  0.000000\n"
     ]
    }
   ],
   "source": [
    "def build_q_talbe(n_states, actions):\n",
    "\ttable = pd.DataFrame(np.zeros((n_states, len(actions))), columns = actions)\n",
    "\t#print(table)    # show table\n",
    "\treturn table\n",
    "\n",
    "def choose_action(state, q_table):\n",
    "\tstate_actions = q_table.iloc[state,:]\n",
    "\tif (np.random.uniform() > EPSILON) or (state_actions.all()==0): # 10 %\n",
    "\t\taction_name = np.random.choice(ACTIONS)\n",
    "\telse:\n",
    "\t\taction_name = state_actions.argmax()\n",
    "\treturn action_name\n",
    "\n",
    "def get_env_feedback(S, A):\n",
    "\tif A == 'right':\n",
    "\t\tif S == N_STATES - 2: # -2\n",
    "\t\t\tR = 1\n",
    "\t\t\tS_ = 'terminal'\n",
    "\t\telse:\n",
    "\t\t\tR = 0\n",
    "\t\t\tS_ = S + 1\n",
    "\telse:\n",
    "\t\tR = 0\n",
    "\t\tif S == 0:\n",
    "\t\t\tS_ = S\n",
    "\t\telse:\n",
    "\t\t\tS_ = S - 1\n",
    "\treturn S_, R\n",
    "\n",
    "def update_env(S, episode, step_counter):\n",
    "    # This is how environment be updated\n",
    "    env_list = ['-']*(N_STATES-1) + ['T']   # '---------T' our environment\n",
    "    if S == 'terminal':\n",
    "        interaction = 'Episode %s: total_steps = %s' % (episode+1, step_counter)\n",
    "        print('\\r{}'.format(interaction), end='')\n",
    "        time.sleep(2)\n",
    "        print('\\r                                ', end='')\n",
    "    else:\n",
    "        env_list[S] = 'o'\n",
    "        interaction = ''.join(env_list)\n",
    "        print('\\r{}'.format(interaction), end='')\n",
    "        time.sleep(FRESH_TIME)\n",
    "\n",
    "def rl():\n",
    "\tq_table = build_q_talbe(N_STATES, ACTIONS)\n",
    "\tfor episode in range(MAX_EPISODES):\n",
    "\t\tstep_counter = 0\n",
    "\t\tS = 0\n",
    "\t\tis_terminated = False\n",
    "\t\tupdate_env(S, episode, step_counter)\n",
    "\t\twhile not is_terminated:\n",
    "\t\t\tA = choose_action(S, q_table)\n",
    "\t\t\tS_, R = get_env_feedback(S, A)\n",
    "\t\t\tq_predict = q_table.ix[S, A]\n",
    "\t\t\t#print (\"\\t q_predict\",S, A, q_predict)\n",
    "\t\t\tif S_ != \"terminal\":\n",
    "\t\t\t\tq_target = R + GAMMA*q_table.iloc[S_,:].max()\n",
    "\t\t\telse:\n",
    "\t\t\t\tq_target = R\n",
    "\t\t\t\tis_terminated = True\n",
    "\t\t\t\n",
    "\t\t\tq_table.ix[S, A] += ALPHA * (q_target - q_predict)\n",
    "\t\t\tS = S_\n",
    "\t\t\t\n",
    "\t\t\tupdate_env(S, episode, step_counter + 1)\n",
    "\t\t\tstep_counter += 1\n",
    "\treturn q_table\n",
    "\n",
    "if __name__ == \"__main__\":\n",
    "\tq_table = rl()\n",
    "\tprint('\\r\\nQ-table:\\n')\n",
    "\tprint(q_table)"
   ]
  },
  {
   "cell_type": "code",
   "execution_count": 10,
   "metadata": {},
   "outputs": [
    {
     "name": "stdout",
     "output_type": "stream",
     "text": [
      "\r\n",
      "Q-table:\n",
      "\n",
      "   left  right\n",
      "0   0.0    0.0\n",
      "1   0.0    0.0\n",
      "2   0.0    0.0\n",
      "3   0.0    0.0\n",
      "4   0.0    0.0\n",
      "5   0.0    0.0\n"
     ]
    }
   ],
   "source": [
    "print('\\r\\nQ-table:\\n')\n",
    "print (build_q_talbe(N_STATES, ACTIONS))"
   ]
  },
  {
   "cell_type": "code",
   "execution_count": 52,
   "metadata": {},
   "outputs": [
    {
     "name": "stdout",
     "output_type": "stream",
     "text": [
      "8\n"
     ]
    }
   ],
   "source": [
    "N = 4\n",
    "a0 = 1\n",
    "a1 = 1\n",
    "a2 = 1\n",
    "a3 = 2\n",
    "C = 1\n",
    "if (N<0) :\n",
    "\tprint (0)\n",
    "if (N<=2) :\n",
    "\tprint (N)\n",
    "for i in range(N):\n",
    "\ta3 = a1+a2\n",
    "\ta1 = a2\n",
    "\ta2 = a3\n",
    "print (a3)\n"
   ]
  },
  {
   "cell_type": "code",
   "execution_count": 57,
   "metadata": {},
   "outputs": [
    {
     "name": "stdout",
     "output_type": "stream",
     "text": [
      "7\n"
     ]
    }
   ],
   "source": [
    "p = 21\n",
    "q = 14\n",
    "def recursive(p,q):\n",
    "\tif p%q != 0:\n",
    "\t\treturn recursive(p%q,p)\n",
    "\telse:\n",
    "\t\treturn q\n",
    "print (recursive(p,q))\n",
    "\n",
    "#     if(p%q!=0) return gcdr(q, p%q);\n",
    "#     else return q;"
   ]
  },
  {
   "cell_type": "code",
   "execution_count": null,
   "metadata": {
    "collapsed": true
   },
   "outputs": [],
   "source": []
  }
 ],
 "metadata": {
  "kernelspec": {
   "display_name": "Python 3",
   "language": "python",
   "name": "python3"
  },
  "language_info": {
   "codemirror_mode": {
    "name": "ipython",
    "version": 3
   },
   "file_extension": ".py",
   "mimetype": "text/x-python",
   "name": "python",
   "nbconvert_exporter": "python",
   "pygments_lexer": "ipython3",
   "version": "3.6.2"
  }
 },
 "nbformat": 4,
 "nbformat_minor": 2
}
